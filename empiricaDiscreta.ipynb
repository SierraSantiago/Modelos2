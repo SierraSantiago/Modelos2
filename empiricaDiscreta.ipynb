{
 "cells": [
  {
   "cell_type": "code",
   "execution_count": 5,
   "metadata": {},
   "outputs": [],
   "source": [
    "import random\n",
    "import matplotlib.pyplot as plt\n",
    "import seaborn as sns\n",
    "from scipy.stats import rv_histogram\n",
    "import numpy as np\n",
    "import pandas as pd\n",
    "from scipy.stats import rv_discrete"
   ]
  },
  {
   "cell_type": "code",
   "execution_count": 3,
   "metadata": {},
   "outputs": [],
   "source": [
    "df = pd.read_excel('discretos.xlsx')\n",
    "datos = df['Valor']"
   ]
  },
  {
   "cell_type": "code",
   "execution_count": 4,
   "metadata": {},
   "outputs": [
    {
     "name": "stdout",
     "output_type": "stream",
     "text": [
      " Valores  Frecuencia  Probabilidad  Acumulada\n",
      "       0           4      0.057143   0.057143\n",
      "       1          13      0.185714   0.242857\n",
      "       2          18      0.257143   0.500000\n",
      "       3           9      0.128571   0.628571\n",
      "       4          12      0.171429   0.800000\n",
      "       5           7      0.100000   0.900000\n",
      "       6           3      0.042857   0.942857\n",
      "       7           4      0.057143   1.000000\n"
     ]
    }
   ],
   "source": [
    "valores, conteo = np.unique(datos, return_counts=True)\n",
    "\n",
    "# Calculo de la probabilidad\n",
    "probabilidad = conteo / len(datos)\n",
    "acumulada = np.cumsum(probabilidad)\n",
    "\n",
    "#visualización\n",
    "dist_frec = pd.DataFrame({'Valores': valores, 'Frecuencia': conteo, 'Probabilidad': probabilidad, 'Acumulada': acumulada})\n",
    "print(dist_frec.to_string(index=False))\n"
   ]
  },
  {
   "cell_type": "code",
   "execution_count": 7,
   "metadata": {},
   "outputs": [],
   "source": [
    "custom_discrete = rv_discrete(name='custom_discrete', values=(valores, probabilidad))"
   ]
  },
  {
   "cell_type": "code",
   "execution_count": null,
   "metadata": {},
   "outputs": [],
   "source": []
  },
  {
   "cell_type": "code",
   "execution_count": null,
   "metadata": {},
   "outputs": [],
   "source": []
  }
 ],
 "metadata": {
  "kernelspec": {
   "display_name": "Python 3",
   "language": "python",
   "name": "python3"
  },
  "language_info": {
   "codemirror_mode": {
    "name": "ipython",
    "version": 3
   },
   "file_extension": ".py",
   "mimetype": "text/x-python",
   "name": "python",
   "nbconvert_exporter": "python",
   "pygments_lexer": "ipython3",
   "version": "3.11.3"
  }
 },
 "nbformat": 4,
 "nbformat_minor": 2
}
