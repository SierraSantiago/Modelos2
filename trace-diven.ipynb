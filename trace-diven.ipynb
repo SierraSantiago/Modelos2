{
 "cells": [
  {
   "cell_type": "markdown",
   "metadata": {},
   "source": [
    "### <center> Simulacion Trace-Driven </center>\n",
    "\n",
    "Se usan los valores de los datos en si mismos para conducir la simulacion."
   ]
  },
  {
   "cell_type": "markdown",
   "metadata": {},
   "source": [
    "### 1. Librerias Necesarias"
   ]
  },
  {
   "cell_type": "code",
   "execution_count": 1,
   "metadata": {},
   "outputs": [],
   "source": [
    "import random\n",
    "import numpy as np\n",
    "import pandas as pd\n",
    "import matplotlib.pyplot as plt\n",
    "import seaborn as sns\n"
   ]
  },
  {
   "cell_type": "markdown",
   "metadata": {},
   "source": [
    "#### 2. Entradas Conocidas"
   ]
  },
  {
   "cell_type": "code",
   "execution_count": 3,
   "metadata": {},
   "outputs": [],
   "source": [
    "df = pd.read_excel('DatosParaPython.xlsx', sheet_name='Datos')"
   ]
  },
  {
   "cell_type": "markdown",
   "metadata": {},
   "source": [
    "### 3. Variables de decision\n",
    "En este modelo en particulasr no hacemos uso de variables"
   ]
  },
  {
   "cell_type": "markdown",
   "metadata": {},
   "source": [
    "### 4. Entradas Incientas\n",
    "Cadauno de los valores de ls vectores y costos "
   ]
  },
  {
   "cell_type": "markdown",
   "metadata": {},
   "source": [
    "### 5. Calculos Intermedios"
   ]
  },
  {
   "cell_type": "code",
   "execution_count": 4,
   "metadata": {},
   "outputs": [],
   "source": [
    "df[\"Beneficios\"]= df[\"Ventas\"]-df[\"Costos\"]"
   ]
  },
  {
   "cell_type": "markdown",
   "metadata": {},
   "source": [
    "### 6. Salidas"
   ]
  },
  {
   "cell_type": "code",
   "execution_count": 5,
   "metadata": {},
   "outputs": [],
   "source": [
    "beneficio_out = df[\"Beneficios\"]\n"
   ]
  },
  {
   "cell_type": "markdown",
   "metadata": {},
   "source": [
    "### 7. Resumen \n",
    "### **7.1 Podemos hacer un resumen estadistico basico con `pandas`**"
   ]
  },
  {
   "cell_type": "code",
   "execution_count": 7,
   "metadata": {},
   "outputs": [
    {
     "name": "stdout",
     "output_type": "stream",
     "text": [
      "       Beneficios\n",
      "count      500.00\n",
      "mean        20.79\n",
      "std         25.21\n",
      "min        -45.11\n",
      "25%          4.16\n",
      "50%         20.35\n",
      "75%         36.58\n",
      "max        109.14\n"
     ]
    }
   ],
   "source": [
    "print(round(pd.DataFrame(beneficio_out, columns=[\"Beneficios\"]).describe(),2))"
   ]
  },
  {
   "cell_type": "markdown",
   "metadata": {},
   "source": [
    "### **7.2 Podemos hacer un resumen estadistico basico con `scipy.stats.describe`**"
   ]
  },
  {
   "cell_type": "code",
   "execution_count": 15,
   "metadata": {},
   "outputs": [
    {
     "name": "stdout",
     "output_type": "stream",
     "text": [
      "Numero de observaciones:  500\n",
      "Minimo y Maximo:(-45.11, 109.14)\n",
      "Media:  20.78743885296717\n",
      "Varianza:  634.3981079625644\n",
      "Desviacion:  25.187260826905423\n"
     ]
    }
   ],
   "source": [
    "from scipy.stats import describe\n",
    "\n",
    "resumen = describe(beneficio_out, ddof=0)\n",
    "\n",
    "print(\"Numero de observaciones: \", resumen.nobs)\n",
    "minimo, maximo = resumen.minmax\n",
    "print(f'Minimo y Maximo:({minimo:.2f}, {maximo:.2f})')\n",
    "print(\"Media: \", resumen.mean)\n",
    "print(\"Varianza: \", resumen.variance)\n",
    "print(\"Desviacion: \", np.sqrt(resumen.variance))\n"
   ]
  },
  {
   "cell_type": "markdown",
   "metadata": {},
   "source": [
    "### **7.3 Podemos hacer un resumen estadistico basico con `numpy`**"
   ]
  },
  {
   "cell_type": "code",
   "execution_count": 16,
   "metadata": {},
   "outputs": [
    {
     "name": "stdout",
     "output_type": "stream",
     "text": [
      "Media: 20.79\n",
      "Mediana: 20.35\n",
      "Desviacion estandar: 25.21\n",
      "Varianza: 634.40\n",
      "Minimo: -45.11\n",
      "Maximo: 109.14\n",
      "Rango: 154.25\n",
      "Percentil 25: 4.16\n",
      "Percentil 50: 20.35\n",
      "Percentil 75: 36.58\n"
     ]
    }
   ],
   "source": [
    "resumennp = {\n",
    "    \"Media\": np.mean(beneficio_out),\n",
    "    \"Mediana\": np.median(beneficio_out),\n",
    "    \"Desviacion estandar\": np.std(beneficio_out, ddof=1),\n",
    "    \"Varianza\": np.var(beneficio_out),\n",
    "    \"Minimo\": np.min(beneficio_out),\n",
    "    \"Maximo\": np.max(beneficio_out),\n",
    "    \"Rango\": np.ptp(beneficio_out),\n",
    "    \"Percentil 25\": np.percentile(beneficio_out, 25),\n",
    "    \"Percentil 50\": np.percentile(beneficio_out, 50),\n",
    "    \"Percentil 75\": np.percentile(beneficio_out, 75),\n",
    "}\n",
    "\n",
    "for clave, valor in resumennp.items():\n",
    "    print(f'{clave}: {valor:.2f}')\n"
   ]
  },
  {
   "cell_type": "markdown",
   "metadata": {},
   "source": [
    "### 7.4 Calculo basico de probabilidades "
   ]
  },
  {
   "cell_type": "code",
   "execution_count": 17,
   "metadata": {},
   "outputs": [
    {
     "name": "stdout",
     "output_type": "stream",
     "text": [
      "Probabilidad de que el beneficio sea negativo: 0.20\n"
     ]
    }
   ],
   "source": [
    "#Probabilidad de que el beneficio sea negativo\n",
    "condicion= (beneficio_out<0)\n",
    "prob1 = np.sum(condicion)/len(beneficio_out)\n",
    "print(f'Probabilidad de que el beneficio sea negativo: {prob1:.2f}')"
   ]
  },
  {
   "cell_type": "code",
   "execution_count": 19,
   "metadata": {},
   "outputs": [
    {
     "data": {
      "text/plain": [
       "<matplotlib.lines.Line2D at 0x19371a2ee90>"
      ]
     },
     "execution_count": 19,
     "metadata": {},
     "output_type": "execute_result"
    },
    {
     "data": {
      "image/png": "[encoded data removed]",
      "text/plain": [
       "<Figure size 500x500 with 1 Axes>"
      ]
     },
     "metadata": {},
     "output_type": "display_data"
    }
   ],
   "source": [
    "sns.displot(beneficio_out)\n",
    "plt.axvline(np.mean(beneficio_out), color='red', linestyle='--')"
   ]
  },
  {
   "cell_type": "code",
   "execution_count": 20,
   "metadata": {},
   "outputs": [
    {
     "data": {
      "text/plain": [
       "<seaborn.axisgrid.FacetGrid at 0x19371bdf450>"
      ]
     },
     "execution_count": 20,
     "metadata": {},
     "output_type": "execute_result"
    },
    {
     "data": {
      "image/png": "[encoded data removed]",
      "text/plain": [
       "<Figure size 500x500 with 1 Axes>"
      ]
     },
     "metadata": {},
     "output_type": "display_data"
    }
   ],
   "source": [
    "sns.displot(beneficio_out, kind='ecdf')"
   ]
  }
 ],
 "metadata": {
  "kernelspec": {
   "display_name": "Python 3",
   "language": "python",
   "name": "python3"
  },
  "language_info": {
   "codemirror_mode": {
    "name": "ipython",
    "version": 3
   },
   "file_extension": ".py",
   "mimetype": "text/x-python",
   "name": "python",
   "nbconvert_exporter": "python",
   "pygments_lexer": "ipython3",
   "version": "3.11.3"
  }
 },
 "nbformat": 4,
 "nbformat_minor": 2
}
