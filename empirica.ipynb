{
 "cells": [
  {
   "cell_type": "markdown",
   "metadata": {},
   "source": [
    "**1.1 Usanda rv_histogram de scipy.stats**"
   ]
  },
  {
   "cell_type": "code",
   "execution_count": 5,
   "metadata": {},
   "outputs": [],
   "source": [
    "import random\n",
    "import matplotlib.pyplot as plt\n",
    "import seaborn as sns\n",
    "from scipy.stats import rv_histogram\n",
    "import numpy as np\n",
    "import pandas as pd"
   ]
  },
  {
   "cell_type": "code",
   "execution_count": 7,
   "metadata": {},
   "outputs": [],
   "source": [
    "df = pd.read_excel('Datos1.xlsx')\n",
    "data = df['Datos']"
   ]
  },
  {
   "cell_type": "markdown",
   "metadata": {},
   "source": [
    "**3. crea un histograma y ajustar rv_histogram**"
   ]
  },
  {
   "cell_type": "code",
   "execution_count": 12,
   "metadata": {},
   "outputs": [
    {
     "name": "stdout",
     "output_type": "stream",
     "text": [
      "17.726857142857142\n",
      "15.96991686516471\n",
      "0.05194346289752651\n",
      "11.779365079365078\n",
      "(17.726857142857142, 255.03824468027221, 0.9056434704687921, -0.4176272980147262)\n",
      "(0.1, 56.7)\n"
     ]
    }
   ],
   "source": [
    "from scipy.stats import rv_histogram\n",
    "\n",
    "#Crear histograma\n",
    "hist = np.histogram(data, bins=\"sturges\", density=True)\n",
    "\n",
    "#Ajustar el historgrama a una distribución \n",
    "hist_dist = rv_histogram(hist)\n",
    "print(hist_dist.mean())\n",
    "print(hist_dist.std())\n",
    "print(hist_dist.pdf(8.0))\n",
    "print(hist_dist.ppf(0.5))\n",
    "print(hist_dist.stats(moments= 'mvsk'))\n",
    "print(hist_dist.support())"
   ]
  },
  {
   "cell_type": "markdown",
   "metadata": {},
   "source": [
    "**5. Generar nuevos datos a partir de la distribucion empirica**"
   ]
  },
  {
   "cell_type": "code",
   "execution_count": 14,
   "metadata": {},
   "outputs": [
    {
     "name": "stdout",
     "output_type": "stream",
     "text": [
      "[ 7.24845604  8.62873049 52.50304604  7.73699274 25.69318425 52.1620833\n",
      " 42.90115177  3.12056187  1.14706721  9.15223746]\n"
     ]
    }
   ],
   "source": [
    "new_sample = hist_dist.rvs(size=10)\n",
    "print(new_sample)"
   ]
  }
 ],
 "metadata": {
  "kernelspec": {
   "display_name": "Python 3",
   "language": "python",
   "name": "python3"
  },
  "language_info": {
   "codemirror_mode": {
    "name": "ipython",
    "version": 3
   },
   "file_extension": ".py",
   "mimetype": "text/x-python",
   "name": "python",
   "nbconvert_exporter": "python",
   "pygments_lexer": "ipython3",
   "version": "3.11.3"
  }
 },
 "nbformat": 4,
 "nbformat_minor": 2
}
